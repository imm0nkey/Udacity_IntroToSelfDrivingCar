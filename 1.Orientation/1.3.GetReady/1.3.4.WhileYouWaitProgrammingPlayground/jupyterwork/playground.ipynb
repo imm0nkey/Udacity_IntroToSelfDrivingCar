{
 "cells": [
  {
   "cell_type": "markdown",
   "metadata": {},
   "source": [
    "# Programming Playground\n",
    "This is a **Jupyter Notebook**. You'll be doing a lot of programming in notebooks like this throughout the Nanodegree.\n",
    "\n",
    "Select the cell below this one (which contains Python code) and press `Ctrl + Enter` (this notation means \"press the Ctrl key and the Enter key at the same time)"
   ]
  },
  {
   "cell_type": "code",
   "execution_count": 6,
   "metadata": {},
   "outputs": [
    {
     "name": "stdout",
     "output_type": "stream",
     "text": [
      "Hello World!\n"
     ]
    }
   ],
   "source": [
    "# Press Ctrl + Enter to run this code\n",
    "print(\"Hello World!\")"
   ]
  },
  {
   "cell_type": "markdown",
   "metadata": {},
   "source": [
    "## Secret Messages\n",
    "The code in the cell below performs a python **`import`** of a file with **secret messages** stored as variables. Don't worry too much about what that means yet, but try exploring the messages."
   ]
  },
  {
   "cell_type": "code",
   "execution_count": 11,
   "metadata": {},
   "outputs": [
    {
     "name": "stdout",
     "output_type": "stream",
     "text": [
      "The autoreload extension is already loaded. To reload it, use:\n",
      "  %reload_ext autoreload\n",
      "You've loaded the secret messages. \n",
      "Now run the cell below this one (Ctrl + Enter)\n",
      "to see the first message!\n"
     ]
    }
   ],
   "source": [
    "import secret_messages\n",
    "\n",
    "# this code will be explained later, ignore it for now\n",
    "%load_ext autoreload \n",
    "%autoreload 2\n",
    "\n",
    "print(\"\"\"You've loaded the secret messages. \n",
    "Now run the cell below this one (Ctrl + Enter)\n",
    "to see the first message!\"\"\")"
   ]
  },
  {
   "cell_type": "code",
   "execution_count": 5,
   "metadata": {},
   "outputs": [
    {
     "name": "stdout",
     "output_type": "stream",
     "text": [
      "\n",
      "Nice work! You found the second message!\n",
      "\n",
      "Now, take a look at the toolbar at the top of the notebook. Insert \n",
      "a new cell and print message_3 by doing the following:\n",
      "\n",
      "1. Select Insert > Insert Cell Below\n",
      "2. Click the new cell to get a cursor. Type the following:\n",
      "\n",
      "print(secret_messages.message_3) \n",
      "\n",
      "3. Press Ctrl + Enter to run\n",
      "\n"
     ]
    }
   ],
   "source": [
    "print(secret_messages.message_2)"
   ]
  },
  {
   "cell_type": "code",
   "execution_count": null,
   "metadata": {},
   "outputs": [],
   "source": [
    "print(secret_)"
   ]
  }
 ],
 "metadata": {
  "kernelspec": {
   "display_name": "Python 3",
   "language": "python",
   "name": "python3"
  },
  "language_info": {
   "codemirror_mode": {
    "name": "ipython",
    "version": 3
   },
   "file_extension": ".py",
   "mimetype": "text/x-python",
   "name": "python",
   "nbconvert_exporter": "python",
   "pygments_lexer": "ipython3",
   "version": "3.6.3"
  }
 },
 "nbformat": 4,
 "nbformat_minor": 2
}
