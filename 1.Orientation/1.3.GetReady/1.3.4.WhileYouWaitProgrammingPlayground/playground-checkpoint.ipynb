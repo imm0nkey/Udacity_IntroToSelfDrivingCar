{
 "cells": [
  {
   "cell_type": "markdown",
   "metadata": {},
   "source": [
    "# Programming Playground\n",
    "This is a **Jupyter Notebook**. You'll be doing a lot of programming in notebooks like this throughout the Nanodegree.\n",
    "\n",
    "Select the cell below this one (which contains Python code) and press `Ctrl + Enter` (this notation means \"press the Ctrl key and the Enter key at the same time)"
   ]
  },
  {
   "cell_type": "code",
   "execution_count": null,
   "metadata": {},
   "outputs": [],
   "source": [
    "# Press Ctrl + Enter to run this code\n",
    "print(\"Hello World!\")"
   ]
  },
  {
   "cell_type": "markdown",
   "metadata": {},
   "source": [
    "## Secret Messages\n",
    "The code in the cell below performs a python **`import`** of a file with **secret messages** stored as variables. Don't worry too much about what that means yet, but try exploring the messages."
   ]
  },
  {
   "cell_type": "code",
   "execution_count": null,
   "metadata": {
    "collapsed": true
   },
   "outputs": [],
   "source": [
    "import secret_messages\n",
    "\n",
    "# this code will be explained later, ignore it for now\n",
    "%load_ext autoreload \n",
    "%autoreload 2\n",
    "\n",
    "print(\"\"\"You've loaded the secret messages. \n",
    "Now run the cell below this one (Ctrl + Enter)\n",
    "to see the first message!\"\"\")"
   ]
  },
  {
   "cell_type": "code",
   "execution_count": null,
   "metadata": {},
   "outputs": [],
   "source": [
    "print(secret_messages.message_1)"
   ]
  }
 ],
 "metadata": {
  "kernelspec": {
   "display_name": "Python 3",
   "language": "python",
   "name": "python3"
  },
  "language_info": {
   "codemirror_mode": {
    "name": "ipython",
    "version": 3
   },
   "file_extension": ".py",
   "mimetype": "text/x-python",
   "name": "python",
   "nbconvert_exporter": "python",
   "pygments_lexer": "ipython3",
   "version": "3.6.1"
  }
 },
 "nbformat": 4,
 "nbformat_minor": 2
}
